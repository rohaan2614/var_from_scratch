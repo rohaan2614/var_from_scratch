{
  "nbformat": 4,
  "nbformat_minor": 0,
  "metadata": {
    "colab": {
      "provenance": [],
      "authorship_tag": "ABX9TyOzDdEJYTO3/HEWiP/QqcRW",
      "include_colab_link": true
    },
    "kernelspec": {
      "name": "python3",
      "display_name": "Python 3"
    },
    "language_info": {
      "name": "python"
    }
  },
  "cells": [
    {
      "cell_type": "markdown",
      "metadata": {
        "id": "view-in-github",
        "colab_type": "text"
      },
      "source": [
        "<a href=\"https://colab.research.google.com/github/rohaan2614/var_from_scratch/blob/master/autoencoder_from_scratch.ipynb\" target=\"_parent\"><img src=\"https://colab.research.google.com/assets/colab-badge.svg\" alt=\"Open In Colab\"/></a>"
      ]
    },
    {
      "cell_type": "markdown",
      "source": [
        "### Data Prep"
      ],
      "metadata": {
        "id": "8RbzGZ-RvIW4"
      }
    },
    {
      "cell_type": "code",
      "source": [
        "import numpy as np\n",
        "import gzip\n",
        "from urllib import request\n",
        "from tqdm import tqdm\n",
        "import os"
      ],
      "metadata": {
        "id": "KP5NDdl1xtWN"
      },
      "execution_count": 1,
      "outputs": []
    },
    {
      "cell_type": "code",
      "source": [
        "# Constants\n",
        "url = \"https://ossci-datasets.s3.amazonaws.com/mnist/\"\n",
        "filenames = ['train-images-idx3-ubyte.gz', 'train-labels-idx1-ubyte.gz',\n",
        "             't10k-images-idx3-ubyte.gz', 't10k-labels-idx1-ubyte.gz']"
      ],
      "metadata": {
        "id": "YjWUOWKjx1V6"
      },
      "execution_count": 2,
      "outputs": []
    },
    {
      "cell_type": "code",
      "source": [
        "# Create the \"data\" directory if it doesn't exist\n",
        "os.makedirs(\"data\", exist_ok=True)"
      ],
      "metadata": {
        "id": "Jbi9kjcwyPB4"
      },
      "execution_count": 3,
      "outputs": []
    },
    {
      "cell_type": "code",
      "source": [
        "# Download the dataset\n",
        "for filename in tqdm(filenames, desc=\"Downloading Dataset\"):\n",
        "    request.urlretrieve(url + filename, os.path.join(\"data\", filename))"
      ],
      "metadata": {
        "colab": {
          "base_uri": "https://localhost:8080/"
        },
        "id": "qgSj_z1yxRZI",
        "outputId": "3c69dc5c-24fa-40bd-c74d-90093d2f3e4a"
      },
      "execution_count": 4,
      "outputs": [
        {
          "output_type": "stream",
          "name": "stderr",
          "text": [
            "Downloading Dataset: 100%|██████████| 4/4 [00:01<00:00,  2.06it/s]\n"
          ]
        }
      ]
    },
    {
      "cell_type": "code",
      "source": [
        "# Read dataset\n",
        "data = []\n",
        "for filename in os.listdir(\"data\"):\n",
        "    filepath = os.path.join(\"data\", filename)\n",
        "    with gzip.open(filepath, 'rb') as f:\n",
        "        if 'labels' in filename:\n",
        "            # Load the labels as a one-dimensional array of integers\n",
        "            data.append(np.frombuffer(f.read(), np.uint8, offset=8))\n",
        "        else:\n",
        "            # Load the images as a two-dimensional array of pixels\n",
        "            data.append(np.frombuffer(f.read(), np.uint8, offset=16).reshape(-1,28*28))"
      ],
      "metadata": {
        "id": "DToZKCnux9gU"
      },
      "execution_count": 5,
      "outputs": []
    },
    {
      "cell_type": "code",
      "source": [
        "print(\"Data Length: \", len(data), \"\\ndata: \", data)"
      ],
      "metadata": {
        "colab": {
          "base_uri": "https://localhost:8080/"
        },
        "id": "ICdhRezpz4aW",
        "outputId": "9b2673b1-d4b8-4082-de1b-a075d8fff0ac"
      },
      "execution_count": 6,
      "outputs": [
        {
          "output_type": "stream",
          "name": "stdout",
          "text": [
            "Data Length:  4 \n",
            "data:  [array([[0, 0, 0, ..., 0, 0, 0],\n",
            "       [0, 0, 0, ..., 0, 0, 0],\n",
            "       [0, 0, 0, ..., 0, 0, 0],\n",
            "       ...,\n",
            "       [0, 0, 0, ..., 0, 0, 0],\n",
            "       [0, 0, 0, ..., 0, 0, 0],\n",
            "       [0, 0, 0, ..., 0, 0, 0]], dtype=uint8), array([[0, 0, 0, ..., 0, 0, 0],\n",
            "       [0, 0, 0, ..., 0, 0, 0],\n",
            "       [0, 0, 0, ..., 0, 0, 0],\n",
            "       ...,\n",
            "       [0, 0, 0, ..., 0, 0, 0],\n",
            "       [0, 0, 0, ..., 0, 0, 0],\n",
            "       [0, 0, 0, ..., 0, 0, 0]], dtype=uint8), array([7, 2, 1, ..., 4, 5, 6], dtype=uint8), array([5, 0, 4, ..., 5, 6, 8], dtype=uint8)]\n"
          ]
        }
      ]
    },
    {
      "cell_type": "code",
      "source": [
        "# Split into training and testing sets\n",
        "X_train, y_train, X_test, y_test = data"
      ],
      "metadata": {
        "id": "h1qstuh6zyY9"
      },
      "execution_count": 7,
      "outputs": []
    },
    {
      "cell_type": "code",
      "source": [
        "print(\"X_Train: \", X_train)\n",
        "print(\"X_Test: \", X_test)"
      ],
      "metadata": {
        "colab": {
          "base_uri": "https://localhost:8080/"
        },
        "id": "5FPekHLz0GlZ",
        "outputId": "9a8d359c-7bcf-47f5-e946-d682f7cc1cee"
      },
      "execution_count": 8,
      "outputs": [
        {
          "output_type": "stream",
          "name": "stdout",
          "text": [
            "X_Train:  [[0 0 0 ... 0 0 0]\n",
            " [0 0 0 ... 0 0 0]\n",
            " [0 0 0 ... 0 0 0]\n",
            " ...\n",
            " [0 0 0 ... 0 0 0]\n",
            " [0 0 0 ... 0 0 0]\n",
            " [0 0 0 ... 0 0 0]]\n",
            "X_Test:  [7 2 1 ... 4 5 6]\n"
          ]
        }
      ]
    },
    {
      "cell_type": "code",
      "source": [
        "# Normalize the pixel values\n",
        "X_train = X_train.astype(np.float32) / 255.0\n",
        "X_test = X_test.astype(np.float32) / 255.0"
      ],
      "metadata": {
        "id": "VlGPgns7zf8w"
      },
      "execution_count": 9,
      "outputs": []
    },
    {
      "cell_type": "code",
      "source": [
        "print(\"X_Train: \", X_train)\n",
        "print(\"X_Test: \", X_test)"
      ],
      "metadata": {
        "colab": {
          "base_uri": "https://localhost:8080/"
        },
        "id": "TI-1wTGN0Nqf",
        "outputId": "32c13af7-17f8-4f20-dc14-511997728b6b"
      },
      "execution_count": 10,
      "outputs": [
        {
          "output_type": "stream",
          "name": "stdout",
          "text": [
            "X_Train:  [[0. 0. 0. ... 0. 0. 0.]\n",
            " [0. 0. 0. ... 0. 0. 0.]\n",
            " [0. 0. 0. ... 0. 0. 0.]\n",
            " ...\n",
            " [0. 0. 0. ... 0. 0. 0.]\n",
            " [0. 0. 0. ... 0. 0. 0.]\n",
            " [0. 0. 0. ... 0. 0. 0.]]\n",
            "X_Test:  [0.02745098 0.00784314 0.00392157 ... 0.01568628 0.01960784 0.02352941]\n"
          ]
        }
      ]
    },
    {
      "cell_type": "code",
      "source": [
        "print(\"y_Train: \", y_train)\n",
        "print(\"y_Test: \", y_test)"
      ],
      "metadata": {
        "colab": {
          "base_uri": "https://localhost:8080/"
        },
        "id": "bv-iKqdC0PSZ",
        "outputId": "2c2b9784-95e6-4d78-f32f-e3dd0b81e40b"
      },
      "execution_count": 11,
      "outputs": [
        {
          "output_type": "stream",
          "name": "stdout",
          "text": [
            "y_Train:  [[0 0 0 ... 0 0 0]\n",
            " [0 0 0 ... 0 0 0]\n",
            " [0 0 0 ... 0 0 0]\n",
            " ...\n",
            " [0 0 0 ... 0 0 0]\n",
            " [0 0 0 ... 0 0 0]\n",
            " [0 0 0 ... 0 0 0]]\n",
            "y_Test:  [5 0 4 ... 5 6 8]\n"
          ]
        }
      ]
    },
    {
      "cell_type": "code",
      "source": [
        "# Convert labels to integers\n",
        "y_train = y_train.astype(np.int64)\n",
        "y_test = y_test.astype(np.int64)"
      ],
      "metadata": {
        "id": "0X4pE9Ue0Dp5"
      },
      "execution_count": 12,
      "outputs": []
    },
    {
      "cell_type": "code",
      "source": [
        "print(\"y_Train: \", y_train)\n",
        "print(\"y_Test: \", y_test)"
      ],
      "metadata": {
        "colab": {
          "base_uri": "https://localhost:8080/"
        },
        "id": "J_bBIfDK0U1F",
        "outputId": "a1ba4304-b4f4-4d3c-d82a-18f1269e5010"
      },
      "execution_count": 13,
      "outputs": [
        {
          "output_type": "stream",
          "name": "stdout",
          "text": [
            "y_Train:  [[0 0 0 ... 0 0 0]\n",
            " [0 0 0 ... 0 0 0]\n",
            " [0 0 0 ... 0 0 0]\n",
            " ...\n",
            " [0 0 0 ... 0 0 0]\n",
            " [0 0 0 ... 0 0 0]\n",
            " [0 0 0 ... 0 0 0]]\n",
            "y_Test:  [5 0 4 ... 5 6 8]\n"
          ]
        }
      ]
    },
    {
      "cell_type": "markdown",
      "source": [
        "### Testing Python Class Extension"
      ],
      "metadata": {
        "id": "-eh6QmvYVZMm"
      }
    },
    {
      "cell_type": "code",
      "source": [
        "class testClass:\n",
        "  def __init__(self, value):\n",
        "    self.value = value\n",
        "\n",
        "  def get_value(self):\n",
        "    return self.value"
      ],
      "metadata": {
        "id": "eOlPkbmjVbJj"
      },
      "execution_count": 14,
      "outputs": []
    },
    {
      "cell_type": "code",
      "source": [
        "test_object = testClass(10)\n",
        "test_object.get_value()"
      ],
      "metadata": {
        "colab": {
          "base_uri": "https://localhost:8080/"
        },
        "id": "_BPQNcMfVnUL",
        "outputId": "c6559b62-fe36-48d8-e9fb-531c4e759c61"
      },
      "execution_count": 15,
      "outputs": [
        {
          "output_type": "execute_result",
          "data": {
            "text/plain": [
              "10"
            ]
          },
          "metadata": {},
          "execution_count": 15
        }
      ]
    },
    {
      "cell_type": "code",
      "source": [
        "def new_method(self, increment):\n",
        "  self.value += increment\n",
        "\n",
        "testClass.increment = new_method"
      ],
      "metadata": {
        "id": "VWUv1YCaVvWl"
      },
      "execution_count": 16,
      "outputs": []
    },
    {
      "cell_type": "code",
      "source": [
        "test_object.increment(5)\n",
        "test_object.get_value()"
      ],
      "metadata": {
        "colab": {
          "base_uri": "https://localhost:8080/"
        },
        "id": "vFQCfioMWDsa",
        "outputId": "174b0d5b-6f43-45c6-bd01-2d91624155f1"
      },
      "execution_count": 17,
      "outputs": [
        {
          "output_type": "execute_result",
          "data": {
            "text/plain": [
              "15"
            ]
          },
          "metadata": {},
          "execution_count": 17
        }
      ]
    },
    {
      "cell_type": "markdown",
      "source": [
        "# AutoEncoder"
      ],
      "metadata": {
        "id": "-6ZeZgMaWaio"
      }
    },
    {
      "cell_type": "code",
      "source": [
        "import torch.nn as nn\n",
        "import graphviz\n",
        "\n",
        "class AutoEncoder(nn.Module):\n",
        "    def __init__(self,\n",
        "                 number_hidden_units : int,\n",
        "                 encoder : nn.Sequential,\n",
        "                 decoder : nn.Sequential):\n",
        "        super().__init__()\n",
        "        self.num_hidden = number_hidden_units\n",
        "        self.encoder = encoder\n",
        "        self.decoder = decoder\n",
        "\n",
        "    def forward(self, x):\n",
        "        x = self.encoder(x)\n",
        "        x = self.decoder(x)\n",
        "        return x\n",
        "\n",
        "    def describe(self):\n",
        "        description = (\n",
        "            f\"AutoEncoder Model\\n\"\n",
        "            f\"=================\\n\"\n",
        "            f\"Number of Hidden Units: {self.num_hidden}\\n\"\n",
        "            f\"Encoder:\\n\"\n",
        "            f\"{self._describe_sequential(self.encoder)}\\n\"\n",
        "            f\"Decoder:\\n\"\n",
        "            f\"{self._describe_sequential(self.decoder)}\\n\"\n",
        "        )\n",
        "        print(description)\n",
        "\n",
        "    def _describe_sequential(self, sequential):\n",
        "        layer_descriptions = []\n",
        "        for i, layer in enumerate(sequential):\n",
        "            layer_descriptions.append(f\"  Layer {i + 1}: {layer}\")\n",
        "        return \"\\n\".join(layer_descriptions)\n",
        "\n",
        "\n",
        "    def visualize_model(self):\n",
        "            dot = graphviz.Digraph(format='png')\n",
        "\n",
        "            # Add nodes for each layer\n",
        "            dot.node('input', 'Input\\n(16)')\n",
        "\n",
        "            # Encoder layers\n",
        "            for i, layer in enumerate(self.encoder):\n",
        "                dot.node(f'encoder_{i}', f'{layer.__class__.__name__}\\n({layer.in_features} -> {layer.out_features})')\n",
        "\n",
        "            # Decoder layers\n",
        "            for i, layer in enumerate(self.decoder):\n",
        "                dot.node(f'decoder_{i}', f'{layer.__class__.__name__}\\n({layer.in_features} -> {layer.out_features})')\n",
        "\n",
        "            # Add edges between nodes\n",
        "            dot.edge('input', f'encoder_0')\n",
        "            for i in range(len(self.encoder) - 1):\n",
        "                dot.edge(f'encoder_{i}', f'encoder_{i + 1}')\n",
        "            dot.edge(f'encoder_{len(self.encoder) - 1}', f'decoder_0')\n",
        "            for i in range(len(self.decoder) - 1):\n",
        "                dot.edge(f'decoder_{i}', f'decoder_{i + 1}')\n",
        "\n",
        "            dot.node('output', 'Output\\n(16)')\n",
        "            dot.edge(f'decoder_{len(self.decoder) - 1}', 'output')\n",
        "\n",
        "            return dot"
      ],
      "metadata": {
        "id": "M5kGFSuqWcls"
      },
      "execution_count": 18,
      "outputs": []
    },
    {
      "cell_type": "code",
      "source": [
        "encoder = nn.Sequential(\n",
        "        nn.Linear(16, 8),\n",
        "        nn.ReLU(),\n",
        "        nn.Linear(8, 4),\n",
        "        nn.ReLU())\n",
        "\n",
        "decoder = nn.Sequential(\n",
        "        nn.Linear(4, 8),\n",
        "        nn.ReLU(),\n",
        "        nn.Linear(8, 16),\n",
        "        nn.Sigmoid())\n",
        "\n",
        "# Create AutoEncoder instance\n",
        "autoencoder = AutoEncoder(number_hidden_units=4, encoder=encoder, decoder=decoder)\n",
        "\n",
        "# Describe the model\n",
        "autoencoder.describe()"
      ],
      "metadata": {
        "colab": {
          "base_uri": "https://localhost:8080/"
        },
        "id": "M5BrlIXjXomA",
        "outputId": "d0200072-5df6-4e1e-bfb4-3d584fb878bd"
      },
      "execution_count": 19,
      "outputs": [
        {
          "output_type": "stream",
          "name": "stdout",
          "text": [
            "AutoEncoder Model\n",
            "=================\n",
            "Number of Hidden Units: 4\n",
            "Encoder:\n",
            "  Layer 1: Linear(in_features=16, out_features=8, bias=True)\n",
            "  Layer 2: ReLU()\n",
            "  Layer 3: Linear(in_features=8, out_features=4, bias=True)\n",
            "  Layer 4: ReLU()\n",
            "Decoder:\n",
            "  Layer 1: Linear(in_features=4, out_features=8, bias=True)\n",
            "  Layer 2: ReLU()\n",
            "  Layer 3: Linear(in_features=8, out_features=16, bias=True)\n",
            "  Layer 4: Sigmoid()\n",
            "\n"
          ]
        }
      ]
    },
    {
      "cell_type": "code",
      "source": [],
      "metadata": {
        "id": "8iC-16robT6i"
      },
      "execution_count": 19,
      "outputs": []
    }
  ]
}